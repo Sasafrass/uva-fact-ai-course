{
 "cells": [
  {
   "cell_type": "markdown",
   "source": [
    "# Removing bias in word embeddings\n",
    "\n",
    "#### Kylian van Geijtenbeek, Thom Visser, Martine Toering, Iulia Ionescu"
   ],
   "metadata": {
    "collapsed": false
   }
  },
  {
   "cell_type": "markdown",
   "metadata": {},
   "source": [
    "$\\textbf{Abstract:}$ This report attempts to reproduce the word embedding debiasing algorithm and replicate experiments from Bolukbasi, Chang, Zou, Saligrama, and Kalai (2016). We adapt the publicly available implementation (https://github.com/tolga-b/debiaswe) and extend it with the soft debiasing method described in their paper. Several popular benchmarks are integrated in order to evaluate the word embeddings before and after debiasing. Besides replicating results on Word2vec, the effectiveness of the debiasing algorithms is investigated on GloVe and fastText embeddings. We show that the removal of direct bias for all the embeddings barely affects their expressiveness through a comparison of benchmark scores. However, we fail to reproduce large scale soft debiasing results as the method described by the authors is not realistically applicable."
   ]
  },
  {
   "cell_type": "code",
   "execution_count": 1,
   "metadata": {},
   "outputs": [],
   "source": [
    "from __future__ import print_function, division\n",
    "%matplotlib inline\n",
    "\n",
    "from debiaswe.we import WordEmbedding\n",
    "import debiaswe.data as data\n",
    "\n",
    "from debiaswe.debias import hard_debias\n",
    "from debiaswe.benchmarks import Benchmark\n",
    "\n",
    "from compare_bias import *"
   ]
  },
  {
   "cell_type": "markdown",
   "metadata": {},
   "source": [
    "# 1 - Gender Bias in Word2vec, Glove and FastText"
   ]
  },
  {
   "cell_type": "markdown",
   "metadata": {},
   "source": [
    "### Load data"
   ]
  },
  {
   "cell_type": "markdown",
   "metadata": {},
   "source": [
    "In this notebook, we will use one of the three different word embeddings: $\\textbf{Word2vec}$ (Mikolov et al. 2013). $\\textbf{GloVe}$ (Pennington et al. 2014) and $\\textbf{FastText}$ (Bojanowski et al. 2016) are also available.\n",
    "\n",
    "The Word2vec embedding we use is learned from a corpus of Google News articles (https://code.google.com/archive/p/word2vec/). The embeddings are 300-dimensional for 3 million words. For GloVe we make use of the 300-dimensional vectors trained on Common Crawl (https://nlp.stanford.edu/projects/glove/). Lastly, FastText is a word embedding from Facebook AI Research lab trained on Wikipedia corpus and Common Crawl and also consists of 300-dimensional vectors (https://fasttext.cc/docs/en/english-vectors.html).\n",
    "\n",
    "We start by loading in the data."
   ]
  },
  {
   "cell_type": "code",
   "execution_count": 2,
   "metadata": {},
   "outputs": [
    {
     "name": "stdout",
     "output_type": "stream",
     "text": [
      "Embedding shape: (26423, 300)\n",
      "26423 words of dimension 300 : in, for, that, is, ..., Jay, Leroy, Brad, Jermaine\n",
      "Embedding shape: (26423, 300)\n",
      "26423 words of dimension 300 : in, for, that, is, ..., Jay, Leroy, Brad, Jermaine\n"
     ]
    }
   ],
   "source": [
    "# Load google news word2vec\n",
    "E = WordEmbedding(\"word2vec_small\")\n",
    "# Load soft debiased word2vec (for later)\n",
    "E_soft = WordEmbedding(\"word2vec_small_soft_debiased\")"
   ]
  },
  {
   "cell_type": "markdown",
   "metadata": {},
   "source": [
    "All the other embeddings can be loaded in a similar fashion, using the embedding names in the table on the GitHub Repository *(word2vec_small_hard_debiased, glove_small, glove_small_hard_debiased, glove_small_soft_debiased, word2vec_large, fasttext_small, fasttext_small_hard_debiased, fasttext_small_soft_debiased, glove_large, fasttext_large, or custom embedding file)*."
   ]
  },
  {
   "cell_type": "markdown",
   "metadata": {},
   "source": [
    "## Word2vec"
   ]
  },
  {
   "cell_type": "code",
   "execution_count": 3,
   "metadata": {},
   "outputs": [],
   "source": [
    "# Load professions and gender related lists from Bolukbasi et al. for Word2vec\n",
    "\n",
    "gender_seed, defs, equalize_pairs, profession_words = data.load_data(E.words)"
   ]
  },
  {
   "cell_type": "markdown",
   "metadata": {},
   "source": [
    "### Define gender direction"
   ]
  },
  {
   "cell_type": "markdown",
   "metadata": {},
   "source": [
    "We define the gender direction by either PCA or by the words \"she\" and \"he\" for Word2vec. \\\n",
    "The PCA method is generally more robust by incorporating all definitional word pairs."
   ]
  },
  {
   "cell_type": "code",
   "execution_count": 4,
   "metadata": {},
   "outputs": [],
   "source": [
    "# Define gender direction with the words \"she\" and \"he\" \n",
    "# v_gender = E.diff('she', 'he')\n",
    "\n",
    "# Define gender direction with PCA\n",
    "v_gender = we.doPCA(defs, E).components_[0]"
   ]
  },
  {
   "cell_type": "markdown",
   "metadata": {},
   "source": [
    "### Generating analogies\n"
   ]
  },
  {
   "cell_type": "markdown",
   "metadata": {},
   "source": [
    "Below, we show some of the gender analogies that we can create from the embeddings. \\\n",
    "This method is based on \"she is to X as he is to Y\" analogies, with X looping through all the words and then finding the appropriate Y. \\\n",
    "\"she\" and \"he\" are either the embeddings of these words, or the extremes of the first principal component, depending on the method used above."
   ]
  },
  {
   "cell_type": "code",
   "execution_count": 5,
   "metadata": {},
   "outputs": [
    {
     "name": "stdout",
     "output_type": "stream",
     "text": [
      "Computing neighbors...\n",
      "Mean number of neighbors per word: 10.219732808538016\n",
      "Median of number of neighbors per word: 7.0\n",
      "Index                          Analogy                   Gender score\n",
      "---------------------------------------------------------------------\n",
      "   0                      herself | himself                      0.94\n",
      "   1                          she | he                           0.94\n",
      "   2                          her | his                          0.91\n",
      "   3                        woman | man                          0.82\n",
      "   4                     daughter | son                          0.74\n",
      "   5                         girl | boy                          0.74\n",
      "   6                      actress | actor                        0.72\n",
      "   7                businesswoman | businessman                  0.70\n",
      "   8                       sister | brother                      0.69\n",
      "   9                       mother | father                       0.69\n",
      "  10                  spokeswoman | spokesman                    0.67\n",
      "  11                      heroine | hero                         0.67\n",
      "  12                   chairwoman | chairman                     0.67\n",
      "  13                      sisters | brothers                     0.67\n",
      "  14                        girls | boys                         0.65\n",
      "  15                        niece | nephew                       0.64\n",
      "  16                 councilwoman | councilman                   0.62\n",
      "  17                          gal | dude                         0.61\n",
      "  18                         aunt | uncle                        0.60\n",
      "  19                granddaughter | grandson                     0.59\n",
      "  20                        queen | king                         0.59\n",
      "  21                   motherhood | fatherhood                   0.59\n",
      "  22                   schoolgirl | schoolboy                    0.59\n",
      "  23                         Anne | John                         0.58\n",
      "  24                        women | men                          0.58\n",
      "  25                  twin_sister | twin_brother                 0.58\n",
      "  26                       petite | lanky                        0.58\n",
      "  27                    matriarch | patriarch                    0.56\n",
      "  28               ovarian_cancer | prostate_cancer              0.56\n",
      "  29                          mom | dad                          0.55\n",
      "  30                      soprano | baritone                     0.55\n",
      "  31                      lesbian | gay                          0.53\n",
      "  32                    daughters | sons                         0.52\n",
      "  33                      mothers | fathers                      0.52\n",
      "  34                  grandmother | grandfather                  0.52\n",
      "  35                      husband | younger_brother              0.51\n",
      "  36                     sorority | fraternity                   0.51\n",
      "  37                         lady | gentleman                    0.49\n",
      "  38                       blouse | shirt                        0.49\n",
      "  39                       queens | kings                        0.48\n",
      "  40                      grandma | grandpa                      0.48\n",
      "  41                         diva | superstar                    0.47\n",
      "  42                         gals | dudes                        0.46\n",
      "  43                      goddess | god                          0.46\n",
      "  44               granddaughters | grandsons                    0.46\n",
      "  45                        mommy | kid                          0.45\n",
      "  46                        Aisha | Jamal                        0.45\n",
      "  47                     waitress | waiter                       0.44\n",
      "  48                        Sarah | Matthew                      0.44\n",
      "  49                     softball | baseball                     0.44\n",
      "  50                         mare | gelding                      0.44\n",
      "  51                        filly | colt                         0.44\n",
      "  52                         Jill | Greg                         0.43\n",
      "  53                   volleyball | football                     0.43\n",
      "  54                  hairdresser | barber                       0.43\n",
      "  55                  girlfriends | buddies                      0.43\n",
      "  56                        aunts | uncles                       0.42\n",
      "  57                    actresses | actors                       0.42\n",
      "  58                         hair | beard                        0.42\n",
      "  59                      heiress | magnate                      0.42\n",
      "  60                     feminine | manly                        0.42\n",
      "  61                     princess | prince                       0.41\n",
      "  62            interior_designer | architect                    0.41\n",
      "  63                       ladies | gentlemen                    0.41\n",
      "  64                          bra | pants                        0.41\n",
      "  65                         moms | dads                         0.41\n",
      "  66                congresswoman | congressman                  0.39\n",
      "  67                          nun | priest                       0.39\n",
      "  68                       nieces | nephews                      0.39\n",
      "  69                         babe | fella                        0.39\n",
      "  70                     fabulous | terrific                     0.39\n",
      "  71                     vocalist | guitarist                    0.39\n",
      "  72                        blond | burly                        0.38\n",
      "  73                    housewife | shopkeeper                   0.38\n",
      "  74                     feminism | conservatism                 0.38\n",
      "  75                      starlet | youngster                    0.38\n",
      "  76                       sewing | carpentry                    0.38\n",
      "  77                        sassy | snappy                       0.38\n",
      "  78                    glamorous | flashy                       0.38\n",
      "  79                         hers | yours                        0.38\n",
      "  80                 stepdaughter | stepson                      0.38\n",
      "  81                        bitch | bastard                      0.38\n",
      "  82                       feisty | mild_mannered                0.38\n",
      "  83                      topless | shirtless                    0.37\n",
      "  84                    childhood | boyhood                      0.37\n",
      "  85                     gorgeous | brilliant                    0.37\n",
      "  86                        nurse | physician                    0.37\n",
      "  87                   compatriot | countryman                   0.37\n",
      "  88                wedding_dress | tuxedo                       0.37\n",
      "  89                     charming | affable                      0.36\n",
      "  90                       breast | prostate                     0.36\n",
      "  91                      fillies | colts                        0.36\n",
      "  92                      females | males                        0.35\n",
      "  93                      handbag | briefcase                    0.35\n",
      "  94                       lovely | magnificent                  0.35\n",
      "  95                        kinda | guy                          0.35\n",
      "  96                        whore | coward                       0.35\n",
      "  97                     siblings | elder_brother                0.35\n",
      "  98                        salon | barbershop                   0.35\n",
      "  99                       female | male                         0.35\n",
      " 100                    headscarf | turban                       0.35\n",
      " 101                        hubby | pal                          0.35\n",
      " 102                         mums | blokes                       0.34\n",
      " 103                       singer | frontman                     0.34\n",
      " 104                     cupcakes | pizzas                       0.34\n",
      " 105                    vocalists | trumpeter                    0.34\n",
      " 106                     feminist | liberal                      0.34\n",
      " 107                         kids | guys                         0.34\n",
      " 108                  salesperson | salesman                     0.33\n",
      " 109                         sexy | nerdy                        0.33\n",
      " 110                breast_cancer | lymphoma                     0.33\n",
      " 111                     estrogen | testosterone                 0.33\n",
      " 112                     children | youngsters                   0.33\n",
      " 113                       vagina | penis                        0.33\n",
      " 114                     adorable | goofy                        0.33\n",
      " 115                     cheerful | jovial                       0.33\n",
      " 116                        witch | demon                        0.32\n",
      " 117                       skirts | shorts                       0.32\n",
      " 118                       blonde | blond                        0.32\n",
      " 119                      convent | cathedral                    0.32\n",
      " 120                         bras | trousers                     0.32\n",
      " 121                      dresses | shirts                       0.32\n",
      " 122                     luscious | crisp                        0.32\n",
      " 123                       giggle | chuckle                      0.32\n",
      " 124                         gown | blazer                       0.32\n",
      " 125                     giggling | grinning                     0.32\n",
      " 126                      Latonya | Leroy                        0.31\n",
      " 127                    feminists | liberalism                   0.31\n",
      " 128                       Laurie | Brett                        0.31\n",
      " 129                   stepmother | eldest_son                   0.31\n",
      " 130                    cosmetics | pharmaceuticals              0.31\n",
      " 131                      netball | rugby                        0.31\n",
      " 132                    beautiful | majestic                     0.31\n",
      " 133                          wig | mustache                     0.31\n",
      " 134                         pink | blue                         0.31\n",
      " 135                         them | him                          0.30\n",
      " 136                       uterus | intestine                    0.30\n",
      " 137                    violinist | virtuoso                     0.30\n",
      " 138                      midwife | doctor                       0.30\n",
      " 139                        dolls | replicas                     0.30\n",
      " 140                    wonderful | great                        0.30\n",
      " 141                         nuns | monk                         0.30\n",
      " 142             registered_nurse | paramedic                    0.30\n",
      " 143                      breasts | genitals                     0.30\n",
      " 144                        boobs | ass                          0.29\n",
      " 145                        nanny | chauffeur                    0.29\n",
      " 146                       beauty | grandeur                     0.29\n",
      " 147                  middle_aged | bearded                      0.29\n",
      " 148                   delightful | superb                       0.29\n",
      " 149           physical_therapist | orthopedic_surgeon           0.29\n",
      " 150                teenage_girls | youths                       0.29\n",
      " 151                        dress | wearing                      0.29\n",
      " 152                    rebounder | playmaker                    0.29\n",
      " 153                     lingerie | menswear                     0.29\n",
      " 154                      hostess | bartender                    0.29\n",
      " 155                      friends | buddy                        0.29\n",
      " 156                    mammogram | colonoscopy                  0.29\n",
      " 157                    boyfriend | stepfather                   0.29\n",
      " 158                 spokespeople | spokesmen                    0.29\n",
      " 159                     alluring | intriguing                   0.29\n",
      " 160                     swimwear | sportswear                   0.29\n",
      " 161                     implants | stents                       0.29\n",
      " 162                schoolteacher | carpenter                    0.29\n",
      " 163                       sultry | mellow                       0.28\n",
      " 164                       sexism | racism                       0.28\n",
      " 165                      singers | guitarists                   0.28\n",
      " 166                      sensual | moody                        0.28\n",
      " 167                   enchanting | splendid                     0.28\n",
      " 168                 practicality | durability                   0.28\n",
      " 169                  captivating | masterful                    0.28\n",
      " 170                         cute | clever                       0.28\n",
      " 171                     gymnasts | wrestlers                    0.28\n",
      " 172                        bride | groom                        0.28\n",
      " 173                     lesbians | homosexuals                  0.28\n",
      " 174                   cheesecake | pizza                        0.28\n",
      " 175            singer_songwriter | musician                     0.28\n",
      " 176                     ethereal | brooding                     0.28\n",
      " 177                      gymnast | wrestler                     0.28\n",
      " 178                       libero | midfielders                  0.28\n",
      " 179           guidance_counselor | headmaster                   0.28\n",
      " 180                 teenage_girl | teenager                     0.27\n",
      " 181                     rehearse | improvise                    0.27\n",
      " 182                   midfielder | winger                       0.27\n",
      " 183                   hysterical | comical                      0.27\n",
      " 184                   judgmental | arrogant                     0.27\n",
      " 185                      giggles | chuckles                     0.27\n",
      " 186                        gowns | robes                        0.27\n",
      " 187                   servicemen | veterans                     0.27\n",
      " 188                   gymnastics | judo                         0.27\n",
      " 189                   boyfriends | friends                      0.27\n",
      " 190                    cigarette | cigar                        0.26\n",
      " 191                       baking | roasting                     0.26\n",
      " 192                       lovers | aficionados                  0.26\n",
      " 193                 choreography | footwork                     0.26\n",
      " 194                    burlesque | rock_n_roll                  0.26\n",
      " 195                     kindness | humility                     0.26\n",
      " 196                      pianist | maestro                      0.26\n",
      " 197                       sexist | racist                       0.26\n",
      " 198                      kittens | neutered                     0.26\n",
      " 199                        mares | stallion                     0.26\n",
      " 200                     silicone | polymer                      0.26\n",
      " 201              eating_disorder | alcoholism                   0.26\n",
      " 202                      cupcake | donut                        0.26\n",
      " 203                  housekeeper | janitor                      0.26\n",
      " 204                    designers | architects                   0.26\n",
      " 205                         mama | daddy                        0.26\n",
      " 206                      panties | socks                        0.26\n",
      " 207                       hurler | starter                      0.26\n",
      " 208                  chairperson | chaired                      0.26\n",
      " 209                     novelist | philosopher                  0.26\n",
      " 210                    backcourt | swingman                     0.25\n",
      " 211                     stroller | bicycle                      0.25\n",
      " 212            male_counterparts | counterparts                 0.25\n",
      " 213                        flute | trombone                     0.25\n",
      " 214                         cubs | lions                        0.25\n",
      " 215                     crafting | drafting                     0.25\n",
      " 216                        manga | comic_books                  0.25\n",
      " 217                    presenter | broadcaster                  0.25\n",
      " 218                     husbands | wives                        0.25\n",
      " 219                      kissing | shaking_hands                0.25\n",
      " 220                        lupus | multiple_myeloma             0.25\n",
      " 221                        cakes | sausages                     0.25\n",
      " 222                        latex | rubber                       0.25\n",
      " 223                       hooker | fullback                     0.25\n",
      " 224                        bingo | gambling                     0.25\n",
      " 225                         veil | cloak                        0.25\n",
      " 226                      dancers | drummers                     0.25\n",
      " 227                       gender | racial                       0.25\n",
      " 228                       sobbed | grinned                      0.25\n",
      " 229                 prostitution | drug_trafficking             0.25\n",
      " 230                     antiques | memorabilia                  0.25\n",
      " 231                   hair_salon | pizzeria                     0.25\n",
      " 232                     costumes | props                        0.25\n",
      " 233                       vocals | drummer                      0.25\n",
      " 234                       fiance | cousin                       0.25\n",
      " 235                    intuition | instincts                    0.25\n",
      " 236             eating_disorders | substance_abuse              0.24\n",
      " 237                       cougar | wolves                       0.24\n",
      " 238                       Carrie | Laurie                       0.24\n",
      " 239                     freshmen | rookies                      0.24\n",
      " 240                      amazing | unbelievable                 0.24\n",
      " 241                     artistry | genius                       0.24\n",
      " 242             flight_attendant | pilots                       0.24\n",
      " 243                         teen | youth                        0.24\n",
      " 244                     sweaters | jerseys                      0.24\n",
      " 245                        smile | grin                         0.24\n",
      " 246                       layups | downfield                    0.24\n",
      " 247                    harmonies | riffs                        0.24\n",
      " 248                 osteoporosis | atherosclerosis              0.24\n",
      " 249                       cheery | amiable                      0.24\n",
      " 250                      outfits | garb                         0.24\n",
      " 251                         beau | pals                         0.24\n",
      " 252                    hairstyle | facial_hair                  0.24\n",
      " 253                   terrifying | fearsome                     0.24\n",
      " 254           child_endangerment | aggravated_assault           0.24\n",
      " 255               figure_skating | hockey                       0.24\n",
      " 256                     teenager | lad                          0.24\n",
      " 257                      jewelry | collectibles                 0.24\n",
      " 258                         chic | minimalist                   0.24\n",
      " 259                        duets | saxophonist                  0.24\n",
      " 260                       worker | foreman                      0.24\n",
      " 261                         glam | retro                        0.24\n",
      " 262                      uptight | cocky                        0.24\n",
      " 263                      sweater | jersey                       0.24\n",
      " 264                       rapist | thug                         0.24\n",
      " 265              cervical_cancer | colorectal_cancer            0.24\n",
      " 266                         hugs | shook_hands                  0.24\n",
      " 267                    masculine | macho                        0.24\n",
      " 268                        scarf | jacket                       0.24\n",
      " 269                          hen | cock                         0.24\n",
      " 270                      glitter | confetti                     0.24\n",
      " 271                         grad | alumnus                      0.24\n",
      " 272              romantic_comedy | flick                        0.24\n",
      " 273                meter_hurdles | yard_dash                    0.24\n",
      " 274                      cooking | grill                        0.24\n",
      " 275                        maids | servants                     0.24\n",
      " 276                    exclaimed | quipped                      0.24\n",
      " 277               unconventional | unorthodox                   0.24\n",
      " 278                         foal | thoroughbred                 0.23\n",
      " 279                    seductive | mesmerizing                  0.23\n",
      " 280          assistant_professor | professor_emeritus           0.23\n",
      " 281                   classmates | teammates                    0.23\n",
      " 282                      putback | yard_touchdown               0.23\n",
      " 283                        retro | throwback                    0.23\n",
      " 284                underclassmen | players                      0.23\n",
      " 285                      baseman | offensive_lineman            0.23\n",
      " 286                  transgender | homosexual                   0.23\n",
      " 287              unassisted_goal | deflected                    0.23\n",
      " 288                   inadequate | ineffective                  0.23\n",
      " 289                     elegance | style                        0.23\n",
      " 290                    tamoxifen | statins                      0.23\n",
      " 291                        anime | videogames                   0.23\n",
      " 292                 giant_slalom | skied                        0.23\n",
      " 293                    menopause | heart_disease                0.23\n",
      " 294                    sophomore | pounder                      0.23\n",
      " 295                        lover | enthusiast                   0.23\n",
      " 296                       plucky | hapless                      0.23\n",
      " 297                   dispatcher | patrolman                    0.23\n",
      " 298                    classmate | teammate                     0.23\n",
      " 299                         cats | pigeons                      0.23\n",
      " 300                     midwives | doctors                      0.23\n",
      " 301             cosmetic_surgery | surgery                      0.23\n",
      " 302                       feline | bulldog                      0.23\n",
      " 303                      apparel | sporting_goods               0.23\n",
      " 304                      warship | destroyer                    0.23\n",
      " 305                  breast_milk | sperm                        0.23\n",
      " 306                 delightfully | brilliantly                  0.23\n",
      " 307                   cigarettes | cigars                       0.23\n",
      " 308                       choral | composer                     0.23\n",
      " 309                 ex_boyfriend | friend                       0.23\n",
      " 310                heartbreaking | humbling                     0.23\n",
      " 311                     seatbelt | wearing_helmet               0.23\n",
      " 312                     sprinter | speedster                    0.23\n",
      " 313                    regionals | playoffs                     0.22\n",
      " 314                 spokesperson | statement                    0.22\n",
      " 315                      realtor | builder                      0.22\n",
      " 316                         lamb | butcher                      0.22\n",
      " 317                   ultrasound | x_ray                        0.22\n",
      " 318                       dancer | entertainer                  0.22\n",
      " 319                       gossip | rumor                        0.22\n",
      " 320                      stalker | pedophile                    0.22\n",
      " 321                        cried | chuckled                     0.22\n",
      " 322                  self_esteem | morale                       0.22\n",
      " 323                    elegantly | superbly                     0.22\n",
      " 324                   housewives | middle_aged                  0.22\n",
      " 325                    librarian | curator                      0.22\n",
      " 326                   frontcourt | playmakers                   0.22\n",
      " 327                  free_throws | touchdown_pass               0.22\n",
      " 328                      singing | rapping                      0.22\n",
      " 329                    bartender | bouncer                      0.22\n",
      " 330                      pitcher | lefthander                   0.22\n",
      " 331               transformative | visionary                    0.22\n",
      " 332                    paralegal | accountant                   0.22\n",
      " 333                     clarinet | saxophone                    0.22\n",
      " 334                   empowering | motivating                   0.22\n",
      " 335                    auditions | tryout                       0.22\n",
      " 336                     wellness | fitness                      0.22\n",
      " 337                     neurotic | eccentric                    0.22\n",
      " 338                   internship | apprenticeship               0.22\n",
      " 339                 pediatrician | cardiologist                 0.22\n",
      " 340                      sobbing | shouted                      0.22\n",
      " 341                      vampire | superhero                    0.22\n",
      " 342                          bun | burgers                      0.22\n",
      " 343                       blokes | bloke                        0.22\n",
      " 344                     anorexia | depression                   0.22\n",
      " 345                   incumbents | incumbent                    0.22\n",
      " 346                        raped | sexually_abusing             0.22\n",
      " 347                    mentoring | mentor                       0.22\n",
      " 348                  provocative | incendiary                   0.22\n",
      " 349                      cashier | robber                       0.22\n",
      " 350                         gosh | heck                         0.22\n",
      " 351                        rapes | crimes                       0.22\n",
      " 352                       nurses | physicians                   0.21\n",
      " 353                     collagen | cartilage                    0.21\n",
      " 354                       hitter | southpaw                     0.21\n",
      " 355                    pregnancy | gestation                    0.21\n",
      " 356                        layup | yarder                       0.21\n",
      " 357                    sexuality | homosexuality                0.21\n",
      " 358                  resourceful | wily                         0.21\n",
      " 359                     plunging | slumping                     0.21\n",
      " 360                    badminton | snooker                      0.21\n",
      " 361                       shrill | louder                       0.21\n",
      " 362                      romance | friendship                   0.21\n",
      " 363                       clique | cronies                      0.21\n",
      " 364                   delectable | sublime                      0.21\n",
      " 365                    terrified | mad                          0.21\n",
      " 366                      Allison | Todd                         0.21\n",
      " 367                     thirteen | eleven                       0.21\n",
      " 368                      campers | camp                         0.21\n",
      " 369                       curves | curved                       0.21\n",
      " 370                      beloved | legendary                    0.21\n",
      " 371                       cloned | clone                        0.21\n",
      " 372                    exercises | drills                       0.21\n",
      " 373                       steals | tackles                      0.21\n",
      " 374                   starvation | famine                       0.21\n",
      " 375                       vulgar | profane                      0.21\n",
      " 376              silver_medalist | compatriot                   0.21\n",
      " 377                entrepreneurs | businessmen                  0.21\n",
      " 378                       walker | crutches                     0.21\n",
      " 379                      closets | lockers                      0.21\n",
      " 380             graphic_designer | cartoonist                   0.21\n",
      " 381                        rower | skipper                      0.21\n",
      " 382                     artisans | craftsmen                    0.21\n",
      " 383                experimenting | tinkering                    0.21\n",
      " 384                    shortstop | defensive_lineman            0.21\n",
      " 385                      couples | married_couples              0.21\n",
      " 386                    horrified | incensed                     0.21\n",
      " 387                       memoir | autobiography                0.21\n",
      " 388                    prettiest | finest                       0.21\n",
      " 389                        fairy | magical                      0.21\n",
      " 390                     folklore | legend                       0.21\n",
      " 391                    scripture | disciples                    0.21\n",
      " 392                        satin | leather                      0.21\n",
      " 393                  coordinator | manager                      0.21\n",
      " 394                    counselor | adviser                      0.21\n",
      " 395                       chicks | ducks                        0.21\n",
      " 396               middle_blocker | leadoff_hitter               0.21\n",
      " 397                      minivan | pickup_truck                 0.21\n",
      " 398                    activists | supporters                   0.21\n",
      " 399                       caring | selfless                     0.21\n",
      " 400                       thighs | biceps                       0.21\n",
      " 401                     designed | engineered                   0.21\n",
      " 402                love_triangle | saga                         0.21\n",
      " 403                 insecurities | frustrations                 0.21\n",
      " 404                     cookbook | tome                         0.21\n",
      " 405                        mills | steel_mills                  0.20\n",
      " 406                  ice_skating | skateboarding                0.20\n",
      " 407             critical_acclaim | plaudits                     0.20\n",
      " 408                      skirted | evaded                       0.20\n",
      " 409                 resignations | sacking                      0.20\n",
      " 410               animal_cruelty | dogfighting                  0.20\n",
      " 411                        purse | wallet                       0.20\n",
      " 412                     abducted | gunned_down                  0.20\n",
      " 413                    energetic | charismatic                  0.20\n",
      " 414                    rehearsal | improvisation                0.20\n",
      " 415                     beautify | rehabilitate                 0.20\n",
      " 416                  celebrities | superstars                   0.20\n",
      " 417                    turquoise | navy_blue                    0.20\n",
      " 418                       celebs | stars                        0.20\n",
      " 419            holistic_approach | approach                     0.20\n",
      " 420                    cocktails | beers                        0.20\n",
      " 421                       adored | revered                      0.20\n",
      " 422                   shimmering | gleaming                     0.20\n",
      " 423                      interns | fellows                      0.20\n",
      " 424                  contestants | hopefuls                     0.20\n",
      " 425                      smitten | enamored                     0.20\n",
      " 426                      ribbons | plaques                      0.20\n",
      " 427                       golfer | sportsman                    0.20\n",
      " 428                         sang | chanted                      0.20\n",
      " 429                    demeaning | disrespectful                0.20\n",
      " 430                     clothing | merchandise                  0.20\n",
      " 431                       flower | ornamental                   0.20\n",
      " 432                   strawberry | potato                       0.20\n",
      " 433                     makeover | revamp                       0.20\n",
      " 434                   courageous | honorable                    0.20\n",
      " 435                 demonstrates | underlines                   0.20\n",
      " 436                   sophomores | offensive_linemen            0.20\n",
      " 437                       unsafe | dangerous                    0.20\n",
      " 438                  storyteller | magician                     0.20\n",
      " 439                    thousands | tens                         0.20\n",
      " 440                 doubleheader | game                         0.20\n",
      " 441                     hormonal | metabolic                    0.20\n",
      " 442                     watchers | pundits                      0.20\n",
      " 443                       bubbly | champagne                    0.20\n",
      " 444                      thyroid | inflammation                 0.20\n",
      " 445               anthropologist | historian                    0.20\n",
      " 446                  overwhelmed | humbled                      0.20\n",
      " 447                    boutiques | retail_outlets               0.20\n",
      " 448                         poem | eulogy                       0.20\n",
      " 449               nerve_wracking | frustrating                  0.20\n",
      " 450                       export | import                       0.20\n",
      " 451                     freshman | redshirt_freshman            0.20\n",
      " 452                       creepy | menacing                     0.20\n",
      " 453                      bondage | shackles                     0.20\n",
      " 454                 foul_trouble | defensively                  0.20\n",
      " 455                    therapist | neurologist                  0.20\n",
      " 456                       horrid | mediocre                     0.20\n",
      " 457                    workshops | sessions                     0.20\n",
      " 458                   articulate | thinker                      0.20\n",
      " 459                    tenacious | hard_nosed                   0.20\n",
      " 460                       drinks | beer                         0.20\n",
      " 461                       violin | guitar                       0.20\n",
      " 462                     quilting | stained_glass                0.20\n",
      " 463                     boutique | shop                         0.20\n",
      " 464                   mysterious | enigmatic                    0.20\n",
      " 465                     soldiers | platoon                      0.20\n",
      " 466                      catcher | lineman                      0.20\n",
      " 467                     luminous | dazzling                     0.20\n",
      " 468                        dayer | seamer                       0.20\n",
      " 469                  backstretch | straightaway                 0.20\n",
      " 470                    behaviors | tendencies                   0.20\n",
      " 471               attractiveness | competitiveness              0.20\n",
      " 472                      vibrant | dynamic                      0.20\n",
      " 473                   incredibly | obviously                    0.20\n",
      " 474                   scandalous | disgraceful                  0.20\n",
      " 475                      firings | firing                       0.19\n",
      " 476                    sergeants | lieutenants                  0.19\n",
      " 477                 complainants | accusers                     0.19\n",
      " 478                    homemaker | schoolteacher                0.19\n",
      " 479              gender_equality | poverty_alleviation          0.19\n",
      " 480                    underpass | tunnel                       0.19\n",
      " 481                   characters | villain                      0.19\n",
      " 482                   delicately | deftly                       0.19\n",
      " 483                     critters | beasts                       0.19\n",
      " 484                     advocate | proponent                    0.19\n",
      " 485                        soaps | sitcoms                      0.19\n",
      " 486                    complicit | culpable                     0.19\n",
      " 487                           ok | alright                      0.19\n",
      " 488             interim_dividend | dividends                    0.19\n",
      " 489                     garments | apparel                      0.19\n",
      " 490                     downsize | restructure                  0.19\n",
      " 491             oncoming_traffic | swerving                     0.19\n",
      " 492                           ex | former                       0.19\n",
      " 493                 manipulative | cunning                      0.19\n",
      " 494            sexual_harassment | misconduct                   0.19\n",
      " 495                       embryo | embryonic                    0.19\n",
      " 496                    endearing | likeable                     0.19\n",
      " 497                         rape | attempted_murder             0.19\n",
      " 498                       blooms | buds                         0.19\n",
      " 499                     stripper | strippers                    0.19\n"
     ]
    }
   ],
   "source": [
    "# Analogies gender\n",
    "a_gender = E.best_analogies_dist_thresh(v_gender, thresh=1)\n",
    "we.viz(a_gender)"
   ]
  },
  {
   "cell_type": "markdown",
   "metadata": {},
   "source": [
    "These analogies offer an insight in potential biases along the specified bias axis (in this case gender). This is useful for a qualitative analysis."
   ]
  },
  {
   "cell_type": "markdown",
   "metadata": {},
   "source": [
    "### Analyzing occupational gender bias \n"
   ]
  },
  {
   "cell_type": "markdown",
   "metadata": {},
   "source": [
    "The projection of occupations on the bias axis serves as another useful source for qualitative analysis."
   ]
  },
  {
   "cell_type": "code",
   "execution_count": 6,
   "metadata": {
    "scrolled": true
   },
   "outputs": [
    {
     "name": "stdout",
     "output_type": "stream",
     "text": [
      "                Female                |                 Male                 \n",
      "-----------------------------------------------------------------------------\n",
      "0.38                    businesswoman | maestro                        -0.244\n",
      "0.379                         actress | protege                        -0.236\n",
      "0.378                       housewife | statesman                      -0.222\n",
      "0.323                       homemaker | businessman                    -0.219\n",
      "0.308                           nurse | sportsman                      -0.209\n",
      "0.302                registered_nurse | philosopher                    -0.196\n",
      "0.297                        waitress | marksman                       -0.192\n",
      "0.28                     receptionist | skipper                        -0.187\n",
      "0.278                       socialite | financier                      -0.183\n",
      "0.277                       librarian | architect                      -0.177\n",
      "0.272                            maid | magician                       -0.172\n",
      "0.265                             nun | trumpeter                      -0.172\n",
      "0.261                       ballerina | major_leaguer                   -0.16\n",
      "0.233                           nanny | salesman                       -0.157\n",
      "0.232                       paralegal | captain                        -0.154\n",
      "0.218                     hairdresser | mechanic                       -0.153\n",
      "0.211                     housekeeper | warrior                        -0.152\n",
      "0.203                      bookkeeper | lieutenant                     -0.152\n",
      "0.199                         stylist | gangster                        -0.15\n",
      "0.198               interior_designer | fighter_pilot                  -0.148\n"
     ]
    }
   ],
   "source": [
    "# Analysis of extreme male and extreme female professions\n",
    "sp = E.profession_stereotypes(profession_words, v_gender)"
   ]
  },
  {
   "cell_type": "markdown",
   "metadata": {},
   "source": [
    "# 2 - Comparing Bias of Word2vec and FastText"
   ]
  },
  {
   "cell_type": "markdown",
   "metadata": {},
   "source": [
    "We will compare the gender bias between word embeddings Word2vec and FastText. We do this by following Bolukbasi et al.'s approach shown in Figure 4 in their paper. The profession words are projected onto the gender axis for two embeddings. Each datapoint represents a profession word.\n",
    "\n",
    "Below we compare the bias of Word2vec and FastText."
   ]
  },
  {
   "cell_type": "code",
   "execution_count": 7,
   "metadata": {},
   "outputs": [
    {
     "name": "stdout",
     "output_type": "stream",
     "text": [
      "Embedding shape: (27014, 300)\n",
      "27014 words of dimension 300 : the, and, of, to, ..., circumscribed, whos, salvaging, anion\n"
     ]
    },
    {
     "data": {
      "image/png": "[encoded data removed]",
      "text/plain": [
       "<Figure size 432x288 with 1 Axes>"
      ]
     },
     "metadata": {
      "needs_background": "light"
     },
     "output_type": "display_data"
    }
   ],
   "source": [
    "E_f = WordEmbedding(\"fasttext_small\")\n",
    "compare_occupational_bias(E, E_f, [\"Word2vec\", \"FastText\"])"
   ]
  },
  {
   "cell_type": "markdown",
   "metadata": {
    "collapsed": true
   },
   "source": [
    "# 3 - Debiasing algorithms on Word2vec"
   ]
  },
  {
   "cell_type": "markdown",
   "metadata": {},
   "source": [
    "## Hard debiasing\n",
    "\n",
    "In hard debiasing, the gender neutral words are shifted to zero in the gender subspace (i.e. neutralized) by subtracting the projection of the neutral word embedding vector onto the gender subspace and renormalizing the resulting embedding to unit length. \n",
    "\n",
    "## Soft debiasing\n",
    "\n",
    "Soft debiasing is done by solving the following optimization problem as mentioned in their paper:\n",
    "\n",
    "\\begin{equation}\n",
    "    \\underset{T}{\\min} || (TW)^T(TW) - W^TW||^2_F + \\lambda ||(TN)^T (TB)||^2_F\n",
    "\\end{equation}\n",
    "\n",
    "where W is the matrix of all embedding vectors, N is the matrix of the embedding vectors of the gender neutral words, B is the gender subspace, and T is the debiasing transformation that minimizes the projection of the neutral words onto the gender subspace but tries to maintain the pairwise inner products between the words.\n",
    "\n",
    "For the optimization, we adapted specifics from Manzini, Chong, Black, and Tsvetkov (2019), where our code is based on the code they provide (https://github.com/TManzini/DebiasMulticlassWordEmbedding)."
   ]
  },
  {
   "cell_type": "markdown",
   "metadata": {},
   "source": [
    "### Hard debiasing Word2vec\n",
    "Firstly, we show how to manually debias embeddings of choice. \\\n",
    "This overwrites the embeddings in the WordEmbedding object, so make sure to re-load the biased embeddings in a new WordEmbedding object for comparison between the benchmarks (as is done in this notebook in the Benchmarks section)."
   ]
  },
  {
   "cell_type": "code",
   "execution_count": 8,
   "metadata": {},
   "outputs": [],
   "source": [
    "# Pass the WordEmbedding object which contains the embeddings that should be debiased.\n",
    "hard_debias(E, gender_seed, defs, equalize_pairs)"
   ]
  },
  {
   "cell_type": "markdown",
   "metadata": {},
   "source": [
    "Secondly, we show the effect of hard debiasing on Word2vec."
   ]
  },
  {
   "cell_type": "code",
   "execution_count": 9,
   "metadata": {},
   "outputs": [
    {
     "name": "stdout",
     "output_type": "stream",
     "text": [
      "                Female                |                 Male                 \n",
      "-----------------------------------------------------------------------------\n",
      "0.433                   businesswoman | businessman                    -0.433\n",
      "0.379                         actress | congressman                    -0.428\n",
      "0.378                       housewife | dad                            -0.365\n",
      "0.297                        waitress | councilman                     -0.358\n",
      "0.272                            maid | statesman                      -0.222\n",
      "0.265                             nun | salesman                       -0.157\n",
      "0.261                       ballerina | handyman                       -0.107\n",
      "0.0                       broadcaster | monk                           -0.082\n",
      "0.0                           plumber | librarian                        -0.0\n",
      "0.0                     valedictorian | magician                         -0.0\n",
      "0.0                      sportswriter | graphic_designer                 -0.0\n",
      "0.0                          observer | novelist                         -0.0\n",
      "0.0                          sergeant | assistant_professor              -0.0\n",
      "0.0                  doctoral_student | officer                          -0.0\n",
      "0.0                         fisherman | shopkeeper                       -0.0\n",
      "0.0                          landlord | filmmaker                        -0.0\n",
      "0.0                          chaplain | homemaker                        -0.0\n",
      "0.0                         paralegal | dancer                           -0.0\n",
      "0.0                             clerk | industrialist                    -0.0\n",
      "0.0                    superintendent | physicist                        -0.0\n"
     ]
    }
   ],
   "source": [
    "# Hard debiased Word2vec\n",
    "# Analysis of extreme male and extreme female professions\n",
    "sp_hard_debiased = E.profession_stereotypes(profession_words, v_gender)"
   ]
  },
  {
   "cell_type": "code",
   "execution_count": 10,
   "metadata": {},
   "outputs": [
    {
     "name": "stdout",
     "output_type": "stream",
     "text": [
      "Computing neighbors...\n",
      "Mean number of neighbors per word: 10.218597434053665\n",
      "Median of number of neighbors per word: 7.0\n",
      "Index                          Analogy                   Gender score\n",
      "---------------------------------------------------------------------\n",
      "   0                 ex_boyfriend | ex_girlfriend                1.00\n",
      "   1                       mother | father                       1.00\n",
      "   2                    daughters | sons                         1.00\n",
      "   3                businesswoman | businessman                  1.00\n",
      "   4                     daughter | son                          1.00\n",
      "   5                 councilwoman | councilman                   1.00\n",
      "   6                      herself | himself                      1.00\n",
      "   7                        queen | king                         1.00\n",
      "   8                        filly | colt                         1.00\n",
      "   9                     husbands | wives                        1.00\n",
      "  10                        niece | nephew                       1.00\n",
      "  11                      sisters | brothers                     1.00\n",
      "  12                      females | males                        1.00\n",
      "  13                      mothers | fathers                      1.00\n",
      "  14                  spokeswoman | spokesman                    1.00\n",
      "  15                     princess | prince                       1.00\n",
      "  16                   schoolgirl | schoolboy                    1.00\n",
      "  17                     estrogen | testosterone                 1.00\n",
      "  18                  twin_sister | twin_brother                 1.00\n",
      "  19                       queens | kings                        1.00\n",
      "  20                      grandma | grandpa                      1.00\n",
      "  21                         girl | boy                          1.00\n",
      "  22                        women | men                          1.00\n",
      "  23                       female | male                         1.00\n",
      "  24               granddaughters | grandsons                    1.00\n",
      "  25                  grandmother | grandfather                  1.00\n",
      "  26                          she | he                           1.00\n",
      "  27               ovarian_cancer | prostate_cancer              1.0\n",
      "  28                       ladies | gentlemen                    1.0\n",
      "  29                          her | his                          1.0\n",
      "  30                   motherhood | fatherhood                   1.0\n",
      "  31                         aunt | uncle                        1.0\n",
      "  32                     sorority | fraternity                   1.0\n",
      "  33                congresswoman | congressman                  1.0\n",
      "  34                        girls | boys                         1.0\n",
      "  35                      convent | monastery                    1.0\n",
      "  36                        woman | man                          1.0\n",
      "  37                         gals | dudes                        1.0\n",
      "  38                   chairwoman | chairman                     0.99\n",
      "  39                granddaughter | grandson                     0.99\n",
      "  40                          mom | dad                          0.99\n",
      "  41                         moms | dads                         0.99\n",
      "  42                         mare | gelding                      0.99\n",
      "  43                       sister | brother                      0.99\n",
      "  44                      actress | actor                        0.64\n",
      "  45                          gal | dude                         0.61\n",
      "  46                      lesbian | gay                          0.54\n",
      "  47                   compatriot | countryman                   0.52\n",
      "  48                      husband | younger_brother              0.51\n",
      "  49                      heroine | protagonist                  0.49\n",
      "  50                    actresses | actors                       0.48\n",
      "  51                    housewife | homemaker                    0.43\n",
      "  52                     waitress | waiter                       0.43\n",
      "  53                        aunts | uncles                       0.42\n",
      "  54                     feminism | feminist                     0.42\n",
      "  55                     mustache | beard                        0.42\n",
      "  56                         hers | theirs                       0.41\n",
      "  57                          kid | guy                          0.40\n",
      "  58                        fella | gentleman                    0.39\n",
      "  59                       nieces | nephews                      0.39\n",
      "  60                teenage_girls | teenagers                    0.39\n",
      "  61                          nun | monk                         0.38\n",
      "  62                 stepdaughter | stepson                      0.38\n",
      "  63                    childhood | boyhood                      0.38\n",
      "  64                        mommy | daddy                        0.37\n",
      "  65                           me | him                          0.37\n",
      "  66                      goddess | god                          0.36\n",
      "  67                       viagra | cialis                       0.36\n",
      "  68                         diva | superstar                    0.36\n",
      "  69                      fillies | colts                        0.36\n",
      "  70                       brides | bridal                       0.35\n",
      "  71                    matriarch | patriarch                    0.35\n",
      "  72                         maid | housekeeper                  0.35\n",
      "  73                      hostess | bartender                    0.34\n",
      "  74                       vagina | penis                        0.33\n",
      "  75                         mama | fella                        0.33\n",
      "  76                 teenage_girl | teenager                     0.32\n",
      "  77                   stepmother | eldest_son                   0.31\n",
      "  78                    ballerina | dancer                       0.30\n",
      "  79                    maternity | midwives                     0.30\n",
      "  80                 grandmothers | grandparents                 0.30\n",
      "  81                  compatriots | countrymen                   0.29\n",
      "  82                        witch | witchcraft                   0.29\n",
      "  83                    boyfriend | stepfather                   0.29\n",
      "  84                       uterus | intestine                    0.28\n",
      "  85                    menopause | puberty                      0.28\n",
      "  86                      heiress | socialite                    0.28\n",
      "  87                        bride | wedding                      0.28\n",
      "  88                     lesbians | gays                         0.27\n",
      "  89                       eldest | elder_brother                0.27\n",
      "  90                   politician | statesman                    0.25\n",
      "  91                        maids | servants                     0.24\n",
      "  92                     dictator | strongman                    0.24\n",
      "  93                    youngster | lad                          0.24\n",
      "  94                         nuns | priests                      0.24\n",
      "  95                     maternal | infant_mortality             0.24\n",
      "  96                        hubby | pal                          0.23\n",
      "  97                       blokes | bloke                        0.22\n",
      "  98                         lady | waitress                     0.21\n",
      "  99                      soprano | baritone                     0.21\n",
      " 100                  girlfriends | buddies                      0.21\n",
      " 101                   boyfriends | girlfriend                   0.20\n",
      " 102                  facial_hair | beards                       0.19\n",
      " 103                         womb | fetus                        0.18\n",
      " 104               businesspeople | businessmen                  0.18\n",
      " 105                       fiance | roommate                     0.18\n",
      " 106                         beau | lover                        0.18\n",
      " 107                  salesperson | salesman                     0.18\n",
      " 108                      witches | vampires                     0.18\n",
      " 109            estranged_husband | estranged                    0.17\n",
      " 110                 counterparts | brethren                     0.16\n",
      " 111                      bastard | chap                         0.16\n",
      " 112                        widow | deceased                     0.16\n",
      " 113                   obstetrics | pediatrics                   0.16\n",
      " 114                 spokespeople | spokesmen                    0.16\n",
      " 115                   friendship | brotherhood                  0.15\n",
      " 116                         hens | chickens                     0.15\n",
      " 117                          hen | cock                         0.15\n",
      " 118                      replied | sir                          0.14\n",
      " 119                        colon | prostate                     0.14\n",
      " 120                     mistress | prostitute                   0.14\n",
      " 121                     stallion | stud                         0.13\n",
      " 122                        manly | macho                        0.13\n",
      " 123                         wife | cousin                       0.13\n",
      " 124                           ma | na                           0.13\n",
      " 125                    carpenter | handyman                     0.12\n",
      " 126                        bulls | bull                         0.12\n",
      " 127                       widows | families                     0.11\n",
      " 128                  salespeople | salesmen                     0.10\n",
      " 129                   girlfriend | friend                       0.10\n",
      " 130                       suitor | takeover_bid                 0.09\n",
      " 131                       gaffer | lads                         0.09\n",
      " 132                        semen | saliva                       0.09\n",
      " 133                    elephants | lions                        0.09\n",
      " 134                      suitors | bidders                      0.08\n",
      " 135                      fiancee | married                      0.08\n",
      " 136                         guys | fellas                       0.08\n",
      " 137                   hair_salon | barbershop                   0.07\n",
      " 138                     elephant | lion                         0.05\n",
      " 139                        colts | mares                        0.05\n",
      " 140                           pa | mo                           0.05\n",
      " 141                        footy | blokes                       0.04\n",
      " 142                     aldermen | councilmen                   0.04\n",
      " 143                        monks | monasteries                  0.04\n",
      " 144                      widower | widowed                      0.03\n",
      " 145                     bachelor | bachelor_degree              0.02\n",
      " 146                        sperm | embryos                      0.02\n",
      " 147                         deer | elk                          0.02\n",
      " 148              residence_halls | fraternities                 0.01\n",
      " 149                      wedlock | fathered                     0.01\n",
      " 150                        penis | genitals                     0.00\n",
      " 151                      princes | royals                       0.00\n"
     ]
    }
   ],
   "source": [
    "# Analogies gender\n",
    "a_gender_hard_debiased = E.best_analogies_dist_thresh(v_gender)\n",
    "we.viz(a_gender_hard_debiased)"
   ]
  },
  {
   "cell_type": "markdown",
   "metadata": {},
   "source": [
    "# 4 - Benchmarks"
   ]
  },
  {
   "cell_type": "markdown",
   "metadata": {},
   "source": [
    "This package includes some basic benchmarks, which allow for easy verification of the embedding's quality before and after debiassing (RG-65, WS-353 and MSR), as well as a statistical measure of bias to quantitatively inspect the effect of debiassing (WEAT)."
   ]
  },
  {
   "cell_type": "code",
   "execution_count": 11,
   "metadata": {},
   "outputs": [
    {
     "name": "stdout",
     "output_type": "stream",
     "text": [
      "Embedding shape: (26423, 300)\n",
      "26423 words of dimension 300 : in, for, that, is, ..., Jay, Leroy, Brad, Jermaine\n"
     ]
    }
   ],
   "source": [
    "benchmark = Benchmark()\n",
    "E_before = WordEmbedding(\"word2vec_small\")"
   ]
  },
  {
   "cell_type": "markdown",
   "metadata": {},
   "source": [
    "### Word2vec"
   ]
  },
  {
   "cell_type": "markdown",
   "metadata": {},
   "source": [
    "Below, we show the benchmarks for Word2vec. \\\n",
    "When comparing the WEAT effect size, make sure to use a single Benchmark object per embedding, benchmarking the biased version first, as is done in this notebook. (This is because the first bias axis is saved internally to measure bias along it for subsequent embeddings.)"
   ]
  },
  {
   "cell_type": "code",
   "execution_count": 12,
   "metadata": {
    "scrolled": false
   },
   "outputs": [
    {
     "name": "stderr",
     "output_type": "stream",
     "text": [
      "100%|██████████| 40/40 [00:05<00:00,  7.86it/s]\n"
     ]
    },
    {
     "name": "stdout",
     "output_type": "stream",
     "text": [
      "+-------------------------------------------------------+\n",
      "|                   Results for Before                  |\n",
      "+---------------+-------+-----------+-------------------+\n",
      "| Dataset       | Found | Not Found |       Score       |\n",
      "+---------------+-------+-----------+-------------------+\n",
      "| EN-RG-65      |   53  |     12    | 77.66555804950227 |\n",
      "| EN-WS-353-ALL |  318  |     35    | 68.82719646959825 |\n",
      "| MSR-analogy   |  5276 |    2724   | 46.79681576952237 |\n",
      "| WEAT          |   -   |     -     |     1.4849316     |\n",
      "+---------------+-------+-----------+-------------------+\n"
     ]
    },
    {
     "name": "stderr",
     "output_type": "stream",
     "text": [
      "100%|██████████| 40/40 [00:04<00:00,  8.82it/s]\n"
     ]
    },
    {
     "name": "stdout",
     "output_type": "stream",
     "text": [
      "+--------------------------------------------------------+\n",
      "|                    Results for Hard                    |\n",
      "+---------------+-------+-----------+--------------------+\n",
      "| Dataset       | Found | Not Found |       Score        |\n",
      "+---------------+-------+-----------+--------------------+\n",
      "| EN-RG-65      |   53  |     12    | 77.49622028082247  |\n",
      "| EN-WS-353-ALL |  318  |     35    | 68.52623098234018  |\n",
      "| MSR-analogy   |  5276 |    2724   | 46.967399545109934 |\n",
      "| WEAT          |   -   |     -     |     0.36466902     |\n",
      "+---------------+-------+-----------+--------------------+\n"
     ]
    },
    {
     "name": "stderr",
     "output_type": "stream",
     "text": [
      "100%|██████████| 40/40 [00:04<00:00,  8.34it/s]\n"
     ]
    },
    {
     "name": "stdout",
     "output_type": "stream",
     "text": [
      "+-------------------------------------------------------+\n",
      "|                    Results for Soft                   |\n",
      "+---------------+-------+-----------+-------------------+\n",
      "| Dataset       | Found | Not Found |       Score       |\n",
      "+---------------+-------+-----------+-------------------+\n",
      "| EN-RG-65      |   53  |     12    | 77.66555804950227 |\n",
      "| EN-WS-353-ALL |  318  |     35    | 68.82719646959825 |\n",
      "| MSR-analogy   |  5276 |    2724   | 46.79681576952237 |\n",
      "| WEAT          |   -   |     -     |    -0.22672768    |\n",
      "+---------------+-------+-----------+-------------------+\n"
     ]
    }
   ],
   "source": [
    "# Evaluate for Word2vec\n",
    "before_results = benchmark.evaluate(E_before, \"Before\")\n",
    "hard_results = benchmark.evaluate(E, \"Hard\")\n",
    "soft_results = benchmark.evaluate(E_soft, \"Soft\")\n"
   ]
  },
  {
   "cell_type": "markdown",
   "metadata": {},
   "source": [
    "The results of individual benchmarks can be combined into a single list and passed to benchmark's `pprint_compare` method for easy comparison."
   ]
  },
  {
   "cell_type": "code",
   "execution_count": 13,
   "metadata": {
    "scrolled": true
   },
   "outputs": [
    {
     "name": "stdout",
     "output_type": "stream",
     "text": [
      "+------------------------------------------------------------------------------------------+\n",
      "|                                   Results for word2vec                                   |\n",
      "+---------------+-------------------+-------------------+--------------------+-------------+\n",
      "|     Score     |       RG-65       |       WS-353      |        MSR         |     WEAT    |\n",
      "+---------------+-------------------+-------------------+--------------------+-------------+\n",
      "|     Before    | 77.66555804950227 | 68.82719646959825 | 46.79681576952237  |  1.4849316  |\n",
      "| Hard-debiased | 77.49622028082247 | 68.52623098234018 | 46.967399545109934 |  0.36466902 |\n",
      "| Soft-debiased | 77.66555804950227 | 68.82719646959825 | 46.79681576952237  | -0.22672768 |\n",
      "+---------------+-------------------+-------------------+--------------------+-------------+\n"
     ]
    }
   ],
   "source": [
    "w2v_results = [before_results, hard_results, soft_results]\n",
    "benchmark.pprint_compare(w2v_results, [\"Before\", \"Hard-debiased\", \"Soft-debiased\"], \"word2vec\")"
   ]
  },
  {
   "cell_type": "markdown",
   "metadata": {},
   "source": [
    "# 5 - Full Experiments"
   ]
  },
  {
   "cell_type": "markdown",
   "metadata": {},
   "source": [
    "The full range of experiments can be executed using the `experiments.py` file from the repository. \\\n",
    "This is best done through a terminal, to modify the behaviour using command line arguments, but its also available here. \\\n",
    "This line outputs comparison benchmarks for all small embeddings. \\\n",
    "Gender analogies and occupational gender bias are not shown for *word2vec_small*, *glove_small*, and *fasttext_small* before debiasing, after hard-debiasing and after soft-debiasing, through the `--no_show` option."
   ]
  },
  {
   "cell_type": "code",
   "execution_count": 15,
   "metadata": {},
   "outputs": [
    {
     "name": "stdout",
     "output_type": "stream",
     "text": [
      "################## EXPERIMENT DETAILS ##################\n",
      "#                                                      #\n",
      "# Analogies and occupations: False                     #\n",
      "# Do soft debiasing from scratch: False                #\n",
      "# Perform benchmarks: True                             #\n",
      "#                                                      #\n",
      "# Performing experiments for the following embeddings: #\n",
      "#\t- word2vec_small                               #\n",
      "#\t- glove_small                                  #\n",
      "#\t- fasttext_small                               #\n",
      "#                                                      #\n",
      "########################################################\n",
      "\n",
      "########################################################\n",
      "#           Doing the word2vec_small embedding         #\n",
      "########################################################\n",
      "Embedding shape: (26423, 300)\n",
      "26423 words of dimension 300 : in, for, that, is, ..., Jay, Leroy, Brad, Jermaine\n",
      "\n",
      "Hard debiasing...\n",
      "\n",
      "Soft debiasing...\n",
      "Embedding shape: (26423, 300)\n",
      "26423 words of dimension 300 : in, for, that, is, ..., Jay, Leroy, Brad, Jermaine\n",
      "\n",
      "Running benchmarks...\n",
      "100%|███████████████████████████████████████████| 40/40 [00:04<00:00,  8.90it/s]\n",
      "100%|███████████████████████████████████████████| 40/40 [00:04<00:00,  9.51it/s]\n",
      "100%|███████████████████████████████████████████| 40/40 [00:04<00:00,  9.65it/s]\n",
      "+------------------------------------------------------------------------------------------+\n",
      "|                                Results for word2vec_small                                |\n",
      "+---------------+-------------------+-------------------+--------------------+-------------+\n",
      "|     Score     |       RG-65       |       WS-353      |        MSR         |     WEAT    |\n",
      "+---------------+-------------------+-------------------+--------------------+-------------+\n",
      "|     Before    | 77.66555804950227 | 68.82719646959825 | 46.79681576952237  |  1.4785795  |\n",
      "| Hard-debiased | 77.49622028082247 | 68.52623098234018 | 46.967399545109934 |  0.37883297 |\n",
      "| Soft-debiased | 77.66555804950227 | 68.82719646959825 | 46.79681576952237  | -0.15358597 |\n",
      "+---------------+-------------------+-------------------+--------------------+-------------+\n",
      "\n",
      "########################################################\n",
      "#            Doing the glove_small embedding           #\n",
      "########################################################\n",
      "Embedding shape: (42982, 300)\n",
      "42982 words of dimension 300 : the, and, to, of, ..., cushman, darkside, motherland, chairmen\n",
      "\n",
      "Hard debiasing...\n",
      "\n",
      "Soft debiasing...\n",
      "Embedding shape: (42982, 300)\n",
      "42982 words of dimension 300 : the, and, to, of, ..., cushman, darkside, motherland, chairmen\n",
      "\n",
      "Running benchmarks...\n",
      "100%|███████████████████████████████████████████| 40/40 [00:07<00:00,  5.56it/s]\n",
      "100%|███████████████████████████████████████████| 40/40 [00:07<00:00,  5.32it/s]\n",
      "100%|███████████████████████████████████████████| 40/40 [00:07<00:00,  5.37it/s]\n",
      "+-----------------------------------------------------------------------------------------+\n",
      "|                                 Results for glove_small                                 |\n",
      "+---------------+-------------------+-------------------+-------------------+-------------+\n",
      "|     Score     |       RG-65       |       WS-353      |        MSR        |     WEAT    |\n",
      "+---------------+-------------------+-------------------+-------------------+-------------+\n",
      "|     Before    | 83.10311410756115 | 66.43748693628271 | 37.47211895910781 |  -1.6155657 |\n",
      "| Hard-debiased | 83.35243100494134 | 66.61161322854848 | 37.62081784386617 | -0.39784268 |\n",
      "| Soft-debiased |  83.0703755250769 | 66.44364789148896 | 37.43494423791822 | -0.69473237 |\n",
      "+---------------+-------------------+-------------------+-------------------+-------------+\n",
      "\n",
      "########################################################\n",
      "#           Doing the fasttext_small embedding         #\n",
      "########################################################\n",
      "Embedding shape: (27014, 300)\n",
      "27014 words of dimension 300 : the, and, of, to, ..., circumscribed, whos, salvaging, anion\n",
      "\n",
      "Hard debiasing...\n",
      "\n",
      "Soft debiasing...\n",
      "Embedding shape: (27014, 300)\n",
      "27014 words of dimension 300 : the, and, of, to, ..., circumscribed, whos, salvaging, anion\n",
      "\n",
      "Running benchmarks...\n",
      "100%|███████████████████████████████████████████| 40/40 [00:03<00:00, 10.44it/s]\n",
      "100%|███████████████████████████████████████████| 40/40 [00:03<00:00, 10.90it/s]\n",
      "100%|███████████████████████████████████████████| 40/40 [00:03<00:00, 10.88it/s]\n",
      "+----------------------------------------------------------------------------------------+\n",
      "|                               Results for fasttext_small                               |\n",
      "+---------------+-------------------+-------------------+-------------------+------------+\n",
      "|     Score     |       RG-65       |       WS-353      |        MSR        |    WEAT    |\n",
      "+---------------+-------------------+-------------------+-------------------+------------+\n",
      "|     Before    | 83.86622701863348 | 74.10786418997199 | 55.87019429516329 | 1.4813895  |\n",
      "| Hard-debiased | 83.50735694621694 | 74.17924052453014 | 55.99421248449773 |  0.436271  |\n",
      "| Soft-debiased | 84.26611081361189 | 74.12157140993038 | 54.73336089293096 | 0.38817888 |\n",
      "+---------------+-------------------+-------------------+-------------------+------------+\n"
     ]
    }
   ],
   "source": [
    "!python experiments.py --no_show"
   ]
  },
  {
   "cell_type": "code",
   "execution_count": null,
   "metadata": {},
   "outputs": [],
   "source": []
  }
 ],
 "metadata": {
  "kernelspec": {
   "display_name": "Python 3",
   "language": "python",
   "name": "python3"
  },
  "language_info": {
   "codemirror_mode": {
    "name": "ipython",
    "version": 3
   },
   "file_extension": ".py",
   "mimetype": "text/x-python",
   "name": "python",
   "nbconvert_exporter": "python",
   "pygments_lexer": "ipython3",
   "version": "3.7.6"
  },
  "pycharm": {
   "stem_cell": {
    "cell_type": "raw",
    "source": [],
    "metadata": {
     "collapsed": false
    }
   }
  }
 },
 "nbformat": 4,
 "nbformat_minor": 2
}